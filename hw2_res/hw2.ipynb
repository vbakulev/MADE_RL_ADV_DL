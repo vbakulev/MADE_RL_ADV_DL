{
 "cells": [
  {
   "cell_type": "markdown",
   "id": "911ef9d8",
   "metadata": {},
   "source": [
    "# Продвинутое глубокое обучение и обучение с подкреплением: ДЗ 2"
   ]
  },
  {
   "cell_type": "markdown",
   "id": "5a478c2a",
   "metadata": {},
   "source": [
    "Студент: Бакулев Владимир Леонидович\n",
    "\n",
    "Группа: MADE-DS-32\n",
    "\n",
    "Почта: vlbakulev@gmail.com"
   ]
  },
  {
   "cell_type": "code",
   "execution_count": 1,
   "id": "fa5a3e6f",
   "metadata": {},
   "outputs": [],
   "source": [
    "import gym\n",
    "\n",
    "import pickle\n",
    "\n",
    "import numpy as np\n",
    "\n",
    "# %matplotlib notebook\n",
    "%matplotlib inline\n",
    "import matplotlib.pyplot as plt"
   ]
  },
  {
   "cell_type": "markdown",
   "id": "b4c669ee",
   "metadata": {},
   "source": [
    "##  Часть первая: крестики-нолики при помощи Q-обучения"
   ]
  },
  {
   "cell_type": "markdown",
   "id": "975cbfb7",
   "metadata": {},
   "source": [
    "В коде, прилагающемся к последней лекции про обучение с подкреплением, реализован Environment для крестиков-ноликов, в котором можно при инициализации указывать разные размеры доски и условия победы, а также функции для рисования, в том числе с указанием оценки различных действий. С этим окружением все задания и связаны.\n",
    "\n",
    "1. Реализуйте обычное (табличное) Q-обучение. Обучите стратегии крестиков и ноликов для доски 3х3.\n",
    "2. Попробуйте обучить стратегии крестиков и ноликов для доски 4х4 и/или 5х5."
   ]
  },
  {
   "cell_type": "code",
   "execution_count": 2,
   "id": "361406f7",
   "metadata": {},
   "outputs": [],
   "source": [
    "class TicTacToe(gym.Env):\n",
    "    def __init__(self, n_rows=3, n_cols=3, n_win=3, clone=None):\n",
    "        if clone is not None:\n",
    "            self.n_rows, self.n_cols, self.n_win = clone.n_rows, clone.n_cols, clone.n_win\n",
    "            self.board = copy.deepcopy(clone.board)\n",
    "            self.curTurn = clone.curTurn\n",
    "            self.emptySpaces = None\n",
    "            self.boardHash = None\n",
    "        else:\n",
    "            self.n_rows = n_rows\n",
    "            self.n_cols = n_cols\n",
    "            self.n_win = n_win\n",
    "\n",
    "            self.reset()\n",
    "\n",
    "    def getEmptySpaces(self):\n",
    "        if self.emptySpaces is None:\n",
    "            res = np.where(self.board == 0)\n",
    "            self.emptySpaces = np.array([ (i, j) for i,j in zip(res[0], res[1]) ])\n",
    "        return self.emptySpaces\n",
    "\n",
    "    def makeMove(self, player, i, j):\n",
    "        self.board[i, j] = player\n",
    "        self.emptySpaces = None\n",
    "        self.boardHash = None\n",
    "\n",
    "    def getHash(self):\n",
    "        if self.boardHash is None:\n",
    "            self.boardHash = ''.join(['%s' % (x+1) for x in self.board.reshape(self.n_rows * self.n_cols)])\n",
    "        return self.boardHash\n",
    "\n",
    "    def isTerminal(self):\n",
    "        # проверим, не закончилась ли игра\n",
    "        cur_marks, cur_p = np.where(self.board == self.curTurn), self.curTurn\n",
    "        for i,j in zip(cur_marks[0], cur_marks[1]):\n",
    "            win = False\n",
    "            if i <= self.n_rows - self.n_win:\n",
    "                if np.all(self.board[i:i+self.n_win, j] == cur_p):\n",
    "                    win = True\n",
    "            if not win:\n",
    "                if j <= self.n_cols - self.n_win:\n",
    "                    if np.all(self.board[i,j:j+self.n_win] == cur_p):\n",
    "                        win = True\n",
    "            if not win:\n",
    "                if i <= self.n_rows - self.n_win and j <= self.n_cols - self.n_win:\n",
    "                    if np.all(np.array([ self.board[i+k,j+k] == cur_p for k in range(self.n_win) ])):\n",
    "                        win = True\n",
    "            if not win:\n",
    "                if i <= self.n_rows - self.n_win and j >= self.n_win-1:\n",
    "                    if np.all(np.array([ self.board[i+k,j-k] == cur_p for k in range(self.n_win) ])):\n",
    "                        win = True\n",
    "            if win:\n",
    "                self.gameOver = True\n",
    "                return self.curTurn\n",
    "\n",
    "        if len(self.getEmptySpaces()) == 0:\n",
    "            self.gameOver = True\n",
    "            return 0\n",
    "\n",
    "        self.gameOver = False\n",
    "        return None\n",
    "\n",
    "    def printBoard(self):\n",
    "        print('╭', ('───┬' * self.n_cols)[:-1], '╮', sep='')\n",
    "        for i in range(0, self.n_rows):\n",
    "            if i != 0:\n",
    "                print('├', ('───┼' * self.n_cols)[:-1], '┤', sep='')\n",
    "            out = '│ '\n",
    "            for j in range(0, self.n_cols):\n",
    "                if self.board[i, j] == 1:\n",
    "                    token = 'x'\n",
    "                if self.board[i, j] == -1:\n",
    "                    token = 'o'\n",
    "                if self.board[i, j] == 0:\n",
    "                    token = ' '\n",
    "                out += token + ' │ '\n",
    "            print(out, sep='')\n",
    "        print('╰', ('───┴' * self.n_cols)[:-1], '╯', sep='')\n",
    "\n",
    "    def getState(self):\n",
    "        return (self.getHash(), self.getEmptySpaces(), self.curTurn)\n",
    "\n",
    "    def action_from_int(self, action_int):\n",
    "        return ( int(action_int / self.n_cols), int(action_int % self.n_cols))\n",
    "\n",
    "    def int_from_action(self, action):\n",
    "        return action[0] * self.n_cols + action[1]\n",
    "    \n",
    "    def step(self, action):\n",
    "        if self.board[action[0], action[1]] != 0:\n",
    "            return self.getState(), -10, True, {}\n",
    "        self.makeMove(self.curTurn, action[0], action[1])\n",
    "        reward = self.isTerminal()\n",
    "        self.curTurn = -self.curTurn\n",
    "        return self.getState(), 0 if reward is None else reward, reward is not None, {}\n",
    "\n",
    "    def reset(self):\n",
    "        self.board = np.zeros((self.n_rows, self.n_cols), dtype=int)\n",
    "        self.boardHash = None\n",
    "        self.gameOver = False\n",
    "        self.emptySpaces = None\n",
    "        self.curTurn = 1"
   ]
  },
  {
   "cell_type": "code",
   "execution_count": 3,
   "id": "5e200e69",
   "metadata": {},
   "outputs": [],
   "source": [
    "def update_Q_for_new_state(env, Q_value, permissible_actions, current_state):\n",
    "    \"\"\"\n",
    "    Функция создает Q_value для нового состояния, рандомно инициализирует \n",
    "    и отмечает невозможные действия\n",
    "    \"\"\"\n",
    "    Q_s = np.random.rand(env.n_rows * env.n_cols) * -1.\n",
    "    Q_s[[env.int_from_action(_act) for _act in permissible_actions]] *=  -1.\n",
    "    Q_value[current_state] = Q_s\n",
    "    return Q_value\n",
    "\n",
    "def compute_action_for_state(env, Q_value, current_state):\n",
    "    \"\"\"\n",
    "    Вычисляет действия по Q_value\n",
    "    \"\"\"\n",
    "    Q_s = Q_value[current_state]\n",
    "    return env.action_from_int(np.argmax(Q_s))\n",
    "\n",
    "def epsilon_greed_policy(env, Q_value, permissible_actions, current_state, epsilon):\n",
    "    \"\"\"\n",
    "    Эпсилон-жадная стратегия\n",
    "    \"\"\"\n",
    "    action = None\n",
    "    if np.random.rand() > epsilon:\n",
    "        action = compute_action_for_state(env, Q_value, current_state)\n",
    "    elif len(permissible_actions) > 0:\n",
    "        action = permissible_actions[np.random.randint(len(permissible_actions))]\n",
    "    return action"
   ]
  },
  {
   "cell_type": "code",
   "execution_count": 4,
   "id": "7dea3784",
   "metadata": {},
   "outputs": [],
   "source": [
    "def X_Q_learning_episode(env, Q_value, alpha=0.02, epsilon=0.75, gamma=1.):\n",
    "    \"\"\"\n",
    "    Функция для Q-обучения крестиков. Нолики одят рандомно, у крестиков цель - победить\n",
    "    \"\"\"\n",
    "    env.reset()\n",
    "    done = False\n",
    "    \n",
    "    # Инициализация\n",
    "    current_state, permissible_actions = env.getHash(), env.getEmptySpaces()\n",
    "    if Q_value.get(current_state) is None:\n",
    "        Q_value = update_Q_for_new_state(env, Q_value, permissible_actions, current_state)\n",
    "        \n",
    "    action = epsilon_greed_policy(env, Q_value, permissible_actions, current_state, epsilon)\n",
    "\n",
    "    while not done:\n",
    "        \n",
    "        reward = None\n",
    "        \n",
    "        if env.curTurn == 1:\n",
    "            # Ход по обучаемой стратегии\n",
    "            observation, reward, done, info = env.step(action)\n",
    "        else:\n",
    "            # Рандомный ход\n",
    "            action = permissible_actions[np.random.randint(len(permissible_actions))]\n",
    "            observation, reward, done, info = env.step(action)\n",
    "        \n",
    "        # Награду даем только за победу\n",
    "        if reward < 0: \n",
    "            reward = 0\n",
    "        \n",
    "        # Q-обучение\n",
    "        state_prime, permissible_actions = env.getHash(), env.getEmptySpaces()\n",
    "        if Q_value.get(state_prime) is None:\n",
    "            Q_value = update_Q_for_new_state(env, Q_value, permissible_actions, state_prime)\n",
    "            \n",
    "        action_prime = epsilon_greed_policy(env, Q_value, permissible_actions, state_prime, epsilon)\n",
    "        \n",
    "        current_Q_value = Q_value[current_state][env.int_from_action(action)]\n",
    "        Q_value[current_state][env.int_from_action(action)] =  current_Q_value + alpha * (reward + gamma * np.max(Q_value[state_prime]) - current_Q_value)\n",
    "\n",
    "        current_state, action = state_prime, action_prime\n",
    "    \n",
    "    return reward"
   ]
  },
  {
   "cell_type": "code",
   "execution_count": 5,
   "id": "967fa98e",
   "metadata": {},
   "outputs": [],
   "source": [
    "def O_Q_learning_episode(env, Q_value, alpha=0.02, epsilon=0.75, gamma=1.):\n",
    "    \"\"\"\n",
    "    Функция для Q-обучения ноликов. Крестики ходят рандомно, у ноликов цель - свести игру в ничью\n",
    "    \"\"\"\n",
    "    env.reset()\n",
    "    done = False\n",
    "    \n",
    "    # Первый ход делают крестики\n",
    "    current_state, permissible_actions = env.getHash(), env.getEmptySpaces()\n",
    "    action = permissible_actions[np.random.randint(len(permissible_actions))]\n",
    "    \n",
    "    observation, reward, done, info = env.step(action)\n",
    "    \n",
    "    # Инициализация\n",
    "    current_state, permissible_actions = env.getHash(), env.getEmptySpaces()\n",
    "    if Q_value.get(current_state) is None:\n",
    "        Q_value = update_Q_for_new_state(env, Q_value, permissible_actions, current_state)\n",
    "        \n",
    "    action = epsilon_greed_policy(env, Q_value, permissible_actions, current_state, epsilon)\n",
    "\n",
    "    while not done:\n",
    "        \n",
    "        reward = None\n",
    "        \n",
    "        if env.curTurn == -1:\n",
    "            # Ход по обучаемой стратегии\n",
    "            observation, reward, done, info = env.step(action)\n",
    "        else:\n",
    "            # Рандомный ход\n",
    "            action = permissible_actions[np.random.randint(len(permissible_actions))]\n",
    "            observation, reward, done, info = env.step(action)\n",
    "        \n",
    "        # Награду даем только за ничью\n",
    "        if abs(reward) == 1: \n",
    "            reward = 0\n",
    "        else:\n",
    "            reward = 1\n",
    "        \n",
    "        # Q-обучение\n",
    "        state_prime, permissible_actions = env.getHash(), env.getEmptySpaces()\n",
    "        if Q_value.get(state_prime) is None:\n",
    "            Q_value = update_Q_for_new_state(env, Q_value, permissible_actions, state_prime)\n",
    "            \n",
    "        action_prime = epsilon_greed_policy(env, Q_value, permissible_actions, state_prime, epsilon)\n",
    "        \n",
    "        current_Q_value = Q_value[current_state][env.int_from_action(action)]\n",
    "        Q_value[current_state][env.int_from_action(action)] =  current_Q_value + alpha * (reward + gamma * np.max(Q_value[state_prime]) - current_Q_value)\n",
    "\n",
    "        current_state, action = state_prime, action_prime\n",
    "    \n",
    "    return reward"
   ]
  },
  {
   "cell_type": "code",
   "execution_count": 6,
   "id": "0697fc57",
   "metadata": {},
   "outputs": [],
   "source": [
    "def learning_episodes(env, total_episodes, Q_learning_episode, Q_value, save_filepath):\n",
    "    fig, ax = plt.subplots(nrows=1, ncols=1, figsize=(10, 5))\n",
    "    plt.ion()\n",
    "\n",
    "    fig.show()\n",
    "    fig.canvas.draw()\n",
    "\n",
    "    list_reward = []\n",
    "    list_mean_reward = []\n",
    "    \n",
    "    for n in range(1, total_episodes):\n",
    "\n",
    "        reward = Q_learning_episode(env, Q_value, alpha=0.1, epsilon=0.75, gamma=1.)\n",
    "        list_reward.append(reward)\n",
    "\n",
    "        if n % 10_000 == 0:\n",
    "            list_mean_reward.append(np.mean(list_reward[-10_000:])) \n",
    "\n",
    "            ax.clear()\n",
    "            ax.plot(list_mean_reward)\n",
    "            fig.canvas.draw()\n",
    "            \n",
    "        if n % 100_000 == 0:\n",
    "            Q_dict = {\n",
    "                \"Q_value\": Q_value,\n",
    "                \"history_reward\": list_reward,\n",
    "            }\n",
    "            with open(save_filepath, 'wb') as f:\n",
    "                pickle.dump(Q_dict, f)"
   ]
  },
  {
   "cell_type": "code",
   "execution_count": 7,
   "id": "adb08716",
   "metadata": {},
   "outputs": [],
   "source": [
    "def check_strategy(env, total_games, X_Q_value=None, O_Q_value=None):\n",
    "    reward_X = 0\n",
    "    reward_0 = 0\n",
    "    \n",
    "    for n in range(total_games):\n",
    "    \n",
    "        done = False\n",
    "        env.reset()\n",
    "\n",
    "        s, permissible_actions = env.getHash(), env.getEmptySpaces()\n",
    "\n",
    "        while not done:\n",
    "\n",
    "            if env.curTurn == 1:\n",
    "                if X_Q_value is not None:\n",
    "                    if X_Q_value.get(s) is not None:\n",
    "                        action = compute_action_for_state(env, X_Q_value, s)\n",
    "                    else:\n",
    "                        action = permissible_actions[np.random.randint(len(permissible_actions))]\n",
    "                else:\n",
    "                    action = permissible_actions[np.random.randint(len(permissible_actions))]\n",
    "            else:\n",
    "                if O_Q_value is not None:\n",
    "                    if O_Q_value.get(s) is not None:\n",
    "                        action = compute_action_for_state(env, O_Q_value, s)\n",
    "                    else:\n",
    "                        action = permissible_actions[np.random.randint(len(permissible_actions))]\n",
    "                else:\n",
    "                    action = permissible_actions[np.random.randint(len(permissible_actions))]\n",
    "\n",
    "            observation, reward, done, info = env.step(action)\n",
    "\n",
    "            s, permissible_actions = env.getHash(), env.getEmptySpaces()\n",
    "\n",
    "        if reward == 1:\n",
    "            reward_X += 1\n",
    "        elif reward == -1:\n",
    "            reward_0 += 1\n",
    "            \n",
    "    total_reward_X = reward_X / total_games\n",
    "    total_reward_0 = reward_0 / total_games\n",
    "    dead_heat = 1 - (total_reward_X + total_reward_0)\n",
    "    \n",
    "    if X_Q_value is None and O_Q_value is None:\n",
    "        print(\"Крестики и нолики играют по случайной стратегии:\")\n",
    "    elif X_Q_value is not None:\n",
    "        print(\"Крестики играют по обученной стратегии, нолики играют по случайной стратегии:\")\n",
    "    elif O_Q_value is not None:\n",
    "        print(\"Нолики играют по обученной стратегии, крестики играют по случайной стратегии:\")\n",
    "        \n",
    "    print(f\"Доля побед крестиков: {total_reward_X:.3f}\")\n",
    "    print(f\"Доля побед ноликов: {total_reward_0:.3f}\")\n",
    "    print(f\"Доля ничьих: {dead_heat:.3f}\")\n",
    "    print(\"=\" * 40)"
   ]
  },
  {
   "cell_type": "markdown",
   "id": "8fe3f87f",
   "metadata": {},
   "source": [
    "### Игра 3x3x3"
   ]
  },
  {
   "cell_type": "markdown",
   "id": "4f1e980d",
   "metadata": {},
   "source": [
    "##### Обучение крестиков"
   ]
  },
  {
   "cell_type": "code",
   "execution_count": 8,
   "id": "dbe10b34",
   "metadata": {},
   "outputs": [],
   "source": [
    "# env_3x3x3 = TicTacToe(n_rows=3, n_cols=3, n_win=3)\n",
    "# X_Q_value_3x3x3 = {}\n",
    "\n",
    "# learning_episodes(\n",
    "#     env=env_3x3x3, \n",
    "#     total_episodes=10_000_000, \n",
    "#     Q_learning_episode=X_Q_learning_episode,\n",
    "#     Q_value=X_Q_value_3x3x3, \n",
    "#     save_filepath=\"X_Q_value_3x3x3\"\n",
    "# )"
   ]
  },
  {
   "cell_type": "code",
   "execution_count": 9,
   "id": "340a8817",
   "metadata": {},
   "outputs": [
    {
     "data": {
      "image/png": "[encoded data removed]",
      "text/plain": [
       "<Figure size 720x288 with 1 Axes>"
      ]
     },
     "metadata": {
      "needs_background": "light"
     },
     "output_type": "display_data"
    }
   ],
   "source": [
    "with open('X_Q_value_3x3x3', 'rb') as f:\n",
    "    data_X_Q_value_3x3x3 = pickle.load(f)\n",
    "\n",
    "X_Q_value_3x3x3 = data_X_Q_value_3x3x3[\"Q_value\"]\n",
    "history_reward_X_3x3x3 = data_X_Q_value_3x3x3[\"history_reward\"]\n",
    "\n",
    "fig, axes = plt.subplots(nrows=1, ncols=1, figsize=(10, 4))\n",
    "axes.plot(np.cumsum(history_reward_X_3x3x3) / np.arange(1, len(history_reward_X_3x3x3) + 1), \"k\")\n",
    "axes.set_xlabel(\"Количество эпизодов\")\n",
    "axes.set_ylabel(\"Доля побед\")\n",
    "axes.set_title(\"Обучение крестиков в игре 3х3\")\n",
    "axes.grid()"
   ]
  },
  {
   "cell_type": "markdown",
   "id": "c1257f1f",
   "metadata": {},
   "source": [
    "##### Обучение ноликов"
   ]
  },
  {
   "cell_type": "code",
   "execution_count": 10,
   "id": "667f357f",
   "metadata": {},
   "outputs": [],
   "source": [
    "# env_3x3x3 = TicTacToe(n_rows=3, n_cols=3, n_win=3)\n",
    "# O_Q_value_3x3x3 = {}\n",
    "\n",
    "# learning_episodes(\n",
    "#     env=env_3x3x3, \n",
    "#     total_episodes=10_000_000, \n",
    "#     Q_learning_episode=O_Q_learning_episode,\n",
    "#     Q_value=O_Q_value_3x3x3,\n",
    "#     save_filepath=\"O_Q_value_3x3x3\"\n",
    "# )"
   ]
  },
  {
   "cell_type": "code",
   "execution_count": 11,
   "id": "7441c0ed",
   "metadata": {},
   "outputs": [
    {
     "data": {
      "image/png": "[encoded data removed]",
      "text/plain": [
       "<Figure size 720x288 with 1 Axes>"
      ]
     },
     "metadata": {
      "needs_background": "light"
     },
     "output_type": "display_data"
    }
   ],
   "source": [
    "with open('O_Q_value_3x3x3', 'rb') as f:\n",
    "    data_O_Q_value_3x3x3 = pickle.load(f)\n",
    "    \n",
    "O_Q_value_3x3x3 = data_O_Q_value_3x3x3[\"Q_value\"]\n",
    "history_reward_O_3x3x3 = data_O_Q_value_3x3x3[\"history_reward\"]\n",
    "\n",
    "fig, axes = plt.subplots(nrows=1, ncols=1, figsize=(10, 4))\n",
    "axes.plot(np.cumsum(history_reward_O_3x3x3) / np.arange(1, len(history_reward_O_3x3x3) + 1), \"k\")\n",
    "axes.set_xlabel(\"Количество эпизодов\")\n",
    "axes.set_ylabel(\"Доля ничьих\")\n",
    "axes.set_title(\"Обучение ноликов в игре 3х3\")\n",
    "axes.grid()"
   ]
  },
  {
   "cell_type": "markdown",
   "id": "74fed668",
   "metadata": {},
   "source": [
    "##### Проверка обученных стратегий"
   ]
  },
  {
   "cell_type": "code",
   "execution_count": 12,
   "id": "1994832f",
   "metadata": {},
   "outputs": [
    {
     "name": "stdout",
     "output_type": "stream",
     "text": [
      "Крестики и нолики играют по случайной стратегии:\n",
      "Доля побед крестиков: 0.574\n",
      "Доля побед ноликов: 0.295\n",
      "Доля ничьих: 0.131\n",
      "========================================\n",
      "Крестики играют по обученной стратегии, нолики играют по случайной стратегии:\n",
      "Доля побед крестиков: 0.918\n",
      "Доля побед ноликов: 0.061\n",
      "Доля ничьих: 0.021\n",
      "========================================\n",
      "Нолики играют по обученной стратегии, крестики играют по случайной стратегии:\n",
      "Доля побед крестиков: 0.336\n",
      "Доля побед ноликов: 0.075\n",
      "Доля ничьих: 0.589\n",
      "========================================\n"
     ]
    }
   ],
   "source": [
    "env_3x3x3 = TicTacToe(n_rows=3, n_cols=3, n_win=3)\n",
    "total_games = 1_000\n",
    "\n",
    "check_strategy(env_3x3x3, total_games, X_Q_value=None, O_Q_value=None)\n",
    "check_strategy(env_3x3x3, total_games, X_Q_value=X_Q_value_3x3x3, O_Q_value=None)\n",
    "check_strategy(env_3x3x3, total_games, X_Q_value=None, O_Q_value=O_Q_value_3x3x3)"
   ]
  },
  {
   "cell_type": "markdown",
   "id": "d109dff7",
   "metadata": {},
   "source": [
    "##### Выводы:\n"
   ]
  },
  {
   "cell_type": "markdown",
   "id": "8c988085",
   "metadata": {},
   "source": [
    "1. По случайной стратегии обоих игроков чаще выигрывают крестики, вдвое реже нолики, иногда ничьи\n",
    "2. Обученные крестики практически всегда обыгрывают случайных ноликов\n",
    "3. Ноликов можно обучить любую игру сводить к ничье (это априорно), но в нашем случае получилось свести к ничье только 53 % игр => нужно дообучать"
   ]
  },
  {
   "cell_type": "markdown",
   "id": "3822c82c",
   "metadata": {},
   "source": [
    "### Игра 4x4x4"
   ]
  },
  {
   "cell_type": "markdown",
   "id": "fd27ae5f",
   "metadata": {},
   "source": [
    "##### Обучение крестиков"
   ]
  },
  {
   "cell_type": "code",
   "execution_count": 13,
   "id": "48eb75b4",
   "metadata": {},
   "outputs": [],
   "source": [
    "# env_4x4x4 = TicTacToe(n_rows=4, n_cols=4, n_win=4)\n",
    "# X_Q_value_4x4x4 = {}\n",
    "\n",
    "# learning_episodes(\n",
    "#     env=env_4x4x4, \n",
    "#     total_episodes=5_000_000, \n",
    "#     Q_learning_episode=X_Q_learning_episode,\n",
    "#     Q_value=X_Q_value_4x4x4, \n",
    "#     save_filepath=\"X_Q_value_4x4x4\"\n",
    "# )"
   ]
  },
  {
   "cell_type": "code",
   "execution_count": 14,
   "id": "7788a210",
   "metadata": {},
   "outputs": [
    {
     "data": {
      "image/png": "[encoded data removed]",
      "text/plain": [
       "<Figure size 720x288 with 1 Axes>"
      ]
     },
     "metadata": {
      "needs_background": "light"
     },
     "output_type": "display_data"
    }
   ],
   "source": [
    "# with open('X_Q_value_4x4x4', 'rb') as f:\n",
    "#     data_X_Q_value_4x4x4 = pickle.load(f)\n",
    "\n",
    "# X_Q_value_4x4x4 = data_X_Q_value_4x4x4[\"Q_value\"]\n",
    "# history_reward_X_4x4x4 = data_X_Q_value_4x4x4[\"history_reward\"]\n",
    "# np.save(\"history_reward_X_Q_value_4x4x4.npy\", np.array(history_reward_X_4x4x4))\n",
    "\n",
    "history_reward_X_4x4x4 = np.load(\"history_reward_X_Q_value_4x4x4.npy\")\n",
    "\n",
    "fig, axes = plt.subplots(nrows=1, ncols=1, figsize=(10, 4))\n",
    "axes.plot(np.cumsum(history_reward_X_4x4x4) / np.arange(1, len(history_reward_X_4x4x4) + 1), \"k\")\n",
    "axes.set_ylim([0.3, 0.4])\n",
    "axes.set_xlabel(\"Количество эпизодов\")\n",
    "axes.set_ylabel(\"Доля побед\")\n",
    "axes.set_title(\"Обучение крестиков в игре 4x4\")\n",
    "axes.grid()"
   ]
  },
  {
   "cell_type": "markdown",
   "id": "42cbfab0",
   "metadata": {},
   "source": [
    "##### Обучение ноликов"
   ]
  },
  {
   "cell_type": "code",
   "execution_count": 15,
   "id": "16f75cdf",
   "metadata": {},
   "outputs": [],
   "source": [
    "# env_4x4x4 = TicTacToe(n_rows=4, n_cols=4, n_win=4)\n",
    "# O_Q_value_4x4x4 = {}\n",
    "\n",
    "# learning_episodes(\n",
    "#     env=env_4x4x4, \n",
    "#     total_episodes=2_000_000, \n",
    "#     Q_learning_episode=O_Q_learning_episode,\n",
    "#     Q_value=O_Q_value_4x4x4,\n",
    "#     save_filepath=\"O_Q_value_4x4x4\"\n",
    "# )"
   ]
  },
  {
   "cell_type": "code",
   "execution_count": 16,
   "id": "b16a6596",
   "metadata": {},
   "outputs": [
    {
     "data": {
      "image/png": "[encoded data removed]",
      "text/plain": [
       "<Figure size 720x288 with 1 Axes>"
      ]
     },
     "metadata": {
      "needs_background": "light"
     },
     "output_type": "display_data"
    }
   ],
   "source": [
    "# with open('O_Q_value_4x4x4', 'rb') as f:\n",
    "#     data_O_Q_value_4x4x4 = pickle.load(f)\n",
    "\n",
    "# O_Q_value_4x4x4 = data_O_Q_value_4x4x4[\"Q_value\"]\n",
    "# history_reward_O_4x4x4 = data_O_Q_value_4x4x4[\"history_reward\"]\n",
    "# np.save(\"history_reward_O_Q_value_4x4x4.npy\", np.array(history_reward_O_4x4x4))\n",
    "\n",
    "history_reward_O_4x4x4 = np.load(\"history_reward_O_Q_value_4x4x4.npy\")\n",
    "\n",
    "fig, axes = plt.subplots(nrows=1, ncols=1, figsize=(10, 4))\n",
    "axes.plot(np.cumsum(history_reward_O_4x4x4) / np.arange(1, len(history_reward_O_4x4x4) + 1), \"k\")\n",
    "axes.set_ylim([0.41, 0.42])\n",
    "axes.set_xlabel(\"Количество эпизодов\")\n",
    "axes.set_ylabel(\"Доля ничьих\")\n",
    "axes.set_title(\"Обучение ноликов в игре 4x4\")\n",
    "axes.grid()"
   ]
  },
  {
   "cell_type": "markdown",
   "id": "75d1d38a",
   "metadata": {},
   "source": [
    "##### Выводы:"
   ]
  },
  {
   "cell_type": "markdown",
   "id": "34b64b49",
   "metadata": {},
   "source": [
    "Модели требуют отгромного времени для сходимости"
   ]
  },
  {
   "cell_type": "markdown",
   "id": "b12d3d38",
   "metadata": {},
   "source": [
    "## Часть вторая: добавим нейронных сетей"
   ]
  },
  {
   "cell_type": "markdown",
   "id": "29357870",
   "metadata": {},
   "source": [
    "Реализуйте нейронную сеть для метода DQN на доске для крестиков-ноликов. Не буду ограничивать фантазию, но кажется, что свёртки 3х3 здесь должны неплохо работать (в том числе обобщаться на доски размера побольше).\n",
    "\n",
    "3. Реализуйте DQN с нейронной сетью, обучите стратегии крестиков и ноликов. Замечание: скорее всего, experience replay потребуется сразу же.\n",
    "4. Реализуйте Double DQN и/или Dueling DQN."
   ]
  },
  {
   "cell_type": "code",
   "execution_count": 17,
   "id": "8891a48d",
   "metadata": {},
   "outputs": [],
   "source": [
    "import torch\n",
    "from torch import nn\n",
    "from torch.nn import functional as F\n",
    "from torch.optim import Adam\n",
    "\n",
    "from collections import deque\n",
    "import random\n",
    "import copy"
   ]
  },
  {
   "cell_type": "code",
   "execution_count": 18,
   "id": "de7dda40",
   "metadata": {},
   "outputs": [],
   "source": [
    "GAMMA = 0.9\n",
    "\n",
    "STEPS_PER_UPDATE = 16\n",
    "BATCH_SIZE = 32\n",
    "LEARNING_RATE = 5e-5\n",
    "MAXLEN = 10_000"
   ]
  },
  {
   "cell_type": "code",
   "execution_count": 19,
   "id": "52bd969f",
   "metadata": {},
   "outputs": [],
   "source": [
    "class LerningDQN:\n",
    "    def __init__(self, model):\n",
    "        self.steps = 0\n",
    "        self.model = model\n",
    "        self.criterion = nn.MSELoss()\n",
    "        self.optimizer = Adam(self.model.parameters(), LEARNING_RATE)\n",
    "        self.buffer = deque(maxlen=MAXLEN)\n",
    "\n",
    "    def consume_transition(self, transition):\n",
    "        self.buffer.append(transition)\n",
    "\n",
    "    def sample_batch(self):\n",
    "        batch = random.sample(self.buffer, BATCH_SIZE)\n",
    "        return batch\n",
    "\n",
    "    def train_step(self, batch):\n",
    "        state, action, next_state, reward, done = zip(*batch)\n",
    "        state = torch.tensor(np.array(state), dtype=torch.float)\n",
    "        action = torch.tensor(np.array(action), dtype=torch.float)\n",
    "        next_state = torch.tensor(np.array(next_state), dtype=torch.float)\n",
    "        reward = torch.tensor(np.array(reward), dtype=torch.float)\n",
    "        done = torch.tensor(np.array(done), dtype=torch.float)\n",
    "        \n",
    "        state = torch.squeeze(state)\n",
    "        next_state = torch.squeeze(next_state)\n",
    "        \n",
    "        with torch.no_grad():\n",
    "            q_value = self.model(state)\n",
    "            q_value_next = self.model(next_state)\n",
    "        \n",
    "        \n",
    "        q_value[torch.arange(q_value.size(0)), action.type(torch.LongTensor)] = reward + (1 - done) * GAMMA * torch.max(q_value_next, 1).values\n",
    "        \n",
    "        y_pred = self.model(state)\n",
    "        loss = self.criterion(y_pred, q_value)\n",
    "        self.optimizer.zero_grad()\n",
    "        loss.backward()\n",
    "        self.optimizer.step()\n",
    "            \n",
    "    def act(self, state):\n",
    "        with torch.no_grad():\n",
    "            q = self.model(torch.Tensor(state))\n",
    "            return torch.argmax(q).item()\n",
    "            \n",
    "    def update(self, transition):\n",
    "        self.consume_transition(transition)\n",
    "        \n",
    "        if len(self.buffer) < BATCH_SIZE:\n",
    "            return\n",
    "        \n",
    "        if self.steps % STEPS_PER_UPDATE == 0:\n",
    "            batch = self.sample_batch()\n",
    "            self.train_step(batch)\n",
    "        self.steps += 1\n",
    "\n",
    "    def save(self, filepath):\n",
    "        torch.save(self.model.state_dict(), filepath)"
   ]
  },
  {
   "cell_type": "code",
   "execution_count": 20,
   "id": "da5ccc41",
   "metadata": {},
   "outputs": [],
   "source": [
    "def X_learning(env, agent, state_to_matrix, transition, filepath):\n",
    "    fig, ax = plt.subplots(nrows=1, ncols=1, figsize=(10, 5))\n",
    "    plt.ion()\n",
    "\n",
    "    fig.show()\n",
    "    fig.canvas.draw()\n",
    "\n",
    "    list_reward = []\n",
    "    list_mean_reward = []\n",
    "\n",
    "    eps = 0.3\n",
    "\n",
    "    for i in range(transition):\n",
    "\n",
    "        env.reset()\n",
    "        done = False\n",
    "\n",
    "        while not done:\n",
    "\n",
    "            state, permissible_actions = env.getHash(), env.getEmptySpaces()\n",
    "            state_matrix = state_to_matrix(state)\n",
    "\n",
    "            if env.curTurn == 1:\n",
    "\n",
    "                if random.random() < eps and len(permissible_actions) > 0:\n",
    "                    action = permissible_actions[np.random.randint(len(permissible_actions))]\n",
    "                else:\n",
    "                    action = env.action_from_int(agent.act(state_matrix))\n",
    "            else:\n",
    "                if len(permissible_actions) > 0:\n",
    "                    action = permissible_actions[np.random.randint(len(permissible_actions))]\n",
    "\n",
    "            (next_state, _, _), reward, done, info = env.step(action) \n",
    "\n",
    "            if reward < 0: \n",
    "                reward = 0\n",
    "\n",
    "            action_int = env.int_from_action(action)\n",
    "            next_state_matrix = state_to_matrix(next_state)\n",
    "\n",
    "            agent.update((state_matrix, action_int, next_state_matrix, reward, done))\n",
    "\n",
    "        list_reward.append(reward)\n",
    "\n",
    "        if (i + 1) % 1_000 == 0:\n",
    "            list_mean_reward.append(np.mean(list_reward[-1_000:])) \n",
    "\n",
    "            ax.clear()\n",
    "            ax.plot(list_mean_reward)\n",
    "            fig.canvas.draw()\n",
    "            \n",
    "        if (i + 1) % 1_000 == 0:\n",
    "            agent.save(\".\".join([filepath, \"pth\"]))\n",
    "            np.save(\".\".join([filepath, \"npy\"]), np.array(list_reward))"
   ]
  },
  {
   "cell_type": "code",
   "execution_count": 21,
   "id": "a915cb35",
   "metadata": {},
   "outputs": [],
   "source": [
    "def O_learning(env, agent, state_to_matrix, transition, filepath):\n",
    "    fig, ax = plt.subplots(nrows=1, ncols=1, figsize=(10, 5))\n",
    "    plt.ion()\n",
    "\n",
    "    fig.show()\n",
    "    fig.canvas.draw()\n",
    "\n",
    "    list_reward = []\n",
    "    list_mean_reward = []\n",
    "\n",
    "    eps = 0.3\n",
    "    \n",
    "    current_state, permissible_actions = env.getHash(), env.getEmptySpaces()\n",
    "    action = permissible_actions[np.random.randint(len(permissible_actions))]\n",
    "    env.step(action)\n",
    "\n",
    "    for i in range(transition):\n",
    "\n",
    "        env.reset()\n",
    "        done = False\n",
    "\n",
    "        while not done:\n",
    "\n",
    "            state, permissible_actions = env.getHash(), env.getEmptySpaces()\n",
    "            state_matrix = state_to_matrix(state)\n",
    "\n",
    "            if env.curTurn == -1:\n",
    "\n",
    "                if random.random() < eps and len(permissible_actions) > 0:\n",
    "                    action = permissible_actions[np.random.randint(len(permissible_actions))]\n",
    "                else:\n",
    "                    action = env.action_from_int(agent.act(state_matrix))\n",
    "            else:\n",
    "                if len(permissible_actions) > 0:\n",
    "                    action = permissible_actions[np.random.randint(len(permissible_actions))]\n",
    "\n",
    "            (next_state, _, _), reward, done, info = env.step(action) \n",
    "\n",
    "            # Награду даем только за ничью\n",
    "            if reward == -1: \n",
    "                reward = 1\n",
    "            else:\n",
    "                reward = 0\n",
    "\n",
    "            action_int = env.int_from_action(action)\n",
    "            next_state_matrix = state_to_matrix(next_state)\n",
    "\n",
    "            agent.update((state_matrix, action_int, next_state_matrix, reward, done))\n",
    "\n",
    "        list_reward.append(reward)\n",
    "\n",
    "        if (i + 1) % 1_000 == 0:\n",
    "            list_mean_reward.append(np.mean(list_reward[-1_000:])) \n",
    "\n",
    "            ax.clear()\n",
    "            ax.plot(list_mean_reward)\n",
    "            fig.canvas.draw()\n",
    "            \n",
    "        if (i + 1) % 1_000 == 0:\n",
    "            agent.save(\".\".join([filepath, \"pth\"]))\n",
    "            np.save(\".\".join([filepath, \"npy\"]), np.array(list_reward))"
   ]
  },
  {
   "cell_type": "code",
   "execution_count": 22,
   "id": "8688544b",
   "metadata": {},
   "outputs": [],
   "source": [
    "def state_to_matrix_3x3(state):\n",
    "    state_matrix = []\n",
    "    for s in list(state):\n",
    "        state_row = np.zeros(3)\n",
    "        state_row[int(s)] = 1\n",
    "        state_matrix.append(state_row)\n",
    "    \n",
    "    state_matrix = np.array(state_matrix).T.reshape(3, 3, 3)\n",
    "    return np.array([state_matrix])"
   ]
  },
  {
   "cell_type": "code",
   "execution_count": 23,
   "id": "f5200100",
   "metadata": {},
   "outputs": [],
   "source": [
    "def state_to_matrix_4x4(state):\n",
    "    state_matrix = []\n",
    "    for s in list(state):\n",
    "        state_row = np.zeros(3)\n",
    "        state_row[int(s)] = 1\n",
    "        state_matrix.append(state_row)\n",
    "    \n",
    "    state_matrix = np.array(state_matrix).T.reshape(3, 4, 4)\n",
    "    return np.array([state_matrix])"
   ]
  },
  {
   "cell_type": "markdown",
   "id": "f0f6fc73",
   "metadata": {},
   "source": [
    "##### Обучение крестиков 3х3 базовым DQN"
   ]
  },
  {
   "cell_type": "code",
   "execution_count": 24,
   "id": "bcfadddc",
   "metadata": {},
   "outputs": [],
   "source": [
    "# env_3x3x3 = TicTacToe(n_rows=3, n_cols=3, n_win=3)\n",
    "\n",
    "# dqn_X_3x3x3 = nn.Sequential(\n",
    "#             nn.Conv2d(in_channels=3, out_channels=128, kernel_size=3),\n",
    "#             nn.ReLU(),\n",
    "#             nn.Flatten(),\n",
    "#             nn.Linear(128, 64),\n",
    "#             nn.ReLU(),\n",
    "#             nn.Linear(64, 9)\n",
    "#         )\n",
    "\n",
    "# agent_dqn_X_3x3x3 = LerningDQN(model=dqn_X_3x3x3)\n",
    "\n",
    "# X_learning(\n",
    "#     env=env_3x3x3, \n",
    "#     agent=agent_dqn_X_3x3x3,\n",
    "#     state_to_matrix=state_to_matrix_3x3\n",
    "#     transition=100_000, \n",
    "#     filepath=\"dqn_X_3x3x3\"\n",
    "# )"
   ]
  },
  {
   "cell_type": "code",
   "execution_count": 25,
   "id": "527450d9",
   "metadata": {},
   "outputs": [
    {
     "data": {
      "image/png": "[encoded data removed]",
      "text/plain": [
       "<Figure size 720x288 with 1 Axes>"
      ]
     },
     "metadata": {
      "needs_background": "light"
     },
     "output_type": "display_data"
    }
   ],
   "source": [
    "history_reward_X_3x3x3 = np.load(\"dqn_X_3x3x3.npy\")\n",
    "\n",
    "fig, axes = plt.subplots(nrows=1, ncols=1, figsize=(10, 4))\n",
    "axes.plot(np.cumsum(history_reward_X_3x3x3) / np.arange(1, len(history_reward_X_3x3x3) + 1), \"k\")\n",
    "axes.set_xlabel(\"Количество эпизодов\")\n",
    "axes.set_ylabel(\"Доля побед\")\n",
    "axes.set_title(\"Обучение крестиков базовым DQN в игре 3x3\")\n",
    "axes.grid()"
   ]
  },
  {
   "cell_type": "markdown",
   "id": "2acdf2b4",
   "metadata": {},
   "source": [
    "##### Обучение ноликов 3х3 базовым DQN"
   ]
  },
  {
   "cell_type": "code",
   "execution_count": 26,
   "id": "fdcfa874",
   "metadata": {},
   "outputs": [],
   "source": [
    "# env_3x3x3 = TicTacToe(n_rows=3, n_cols=3, n_win=3)\n",
    "\n",
    "# dqn_O_3x3x3 = nn.Sequential(\n",
    "#             nn.Conv2d(in_channels=3, out_channels=128, kernel_size=3),\n",
    "#             nn.ReLU(),\n",
    "#             nn.Flatten(),\n",
    "#             nn.Linear(128, 64),\n",
    "#             nn.ReLU(),\n",
    "#             nn.Linear(64, 9)\n",
    "#         )\n",
    "\n",
    "# agent_dqn_O_3x3x3 = LerningDQN(model=dqn_O_3x3x3)\n",
    "\n",
    "# O_learning(\n",
    "#     env=env_3x3x3, \n",
    "#     agent=agent_dqn_O_3x3x3,\n",
    "#     state_to_matrix=state_to_matrix_3x3,\n",
    "#     transition=100_000, \n",
    "#     filepath=\"dqn_O_3x3x3\"\n",
    "# )"
   ]
  },
  {
   "cell_type": "code",
   "execution_count": 27,
   "id": "13ff1160",
   "metadata": {},
   "outputs": [
    {
     "data": {
      "image/png": "[encoded data removed]",
      "text/plain": [
       "<Figure size 720x288 with 1 Axes>"
      ]
     },
     "metadata": {
      "needs_background": "light"
     },
     "output_type": "display_data"
    }
   ],
   "source": [
    "history_reward_O_3x3x3 = np.load(\"dqn_O_3x3x3.npy\")\n",
    "\n",
    "fig, axes = plt.subplots(nrows=1, ncols=1, figsize=(10, 4))\n",
    "axes.plot(np.cumsum(history_reward_O_3x3x3) / np.arange(1, len(history_reward_O_3x3x3) + 1), \"k\")\n",
    "axes.set_xlabel(\"Количество эпизодов\")\n",
    "axes.set_ylabel(\"Доля побед\")\n",
    "axes.set_title(\"Обучение ноликов базовым DQN в игре 3x3\")\n",
    "axes.grid()"
   ]
  },
  {
   "cell_type": "markdown",
   "id": "c3b20022",
   "metadata": {},
   "source": [
    "##### Обучение крестиков 4x4x4 базовым DQN"
   ]
  },
  {
   "cell_type": "code",
   "execution_count": 28,
   "id": "a79b59f9",
   "metadata": {},
   "outputs": [],
   "source": [
    "# env_4x4x4 = TicTacToe(n_rows=4, n_cols=4, n_win=4)\n",
    "\n",
    "# dqn_X_4x4x4 = nn.Sequential(\n",
    "#             nn.Conv2d(in_channels=3, out_channels=128, kernel_size=4),\n",
    "#             nn.ReLU(),\n",
    "#             nn.Flatten(),\n",
    "#             nn.Linear(128, 64),\n",
    "#             nn.ReLU(),\n",
    "#             nn.Linear(64, 16)\n",
    "#         )\n",
    "\n",
    "# agent_dqn_X_4x4x4 = LerningDQN(model=dqn_X_4x4x4)\n",
    "\n",
    "# X_learning(\n",
    "#     env=env_4x4x4, \n",
    "#     agent=agent_dqn_X_4x4x4, \n",
    "#     state_to_matrix=state_to_matrix_4x4,\n",
    "#     transition=100_000, \n",
    "#     filepath=\"dqn_X_4x4x4\"\n",
    "# )"
   ]
  },
  {
   "cell_type": "code",
   "execution_count": 29,
   "id": "7701fb23",
   "metadata": {},
   "outputs": [
    {
     "data": {
      "image/png": "[encoded data removed]",
      "text/plain": [
       "<Figure size 720x288 with 1 Axes>"
      ]
     },
     "metadata": {
      "needs_background": "light"
     },
     "output_type": "display_data"
    }
   ],
   "source": [
    "history_reward_X_4x4x4 = np.load(\"dqn_X_4x4x4.npy\")\n",
    "\n",
    "fig, axes = plt.subplots(nrows=1, ncols=1, figsize=(10, 4))\n",
    "axes.plot(np.cumsum(history_reward_X_4x4x4) / np.arange(1, len(history_reward_X_4x4x4) + 1), \"k\")\n",
    "axes.set_xlabel(\"Количество эпизодов\")\n",
    "axes.set_ylabel(\"Доля побед\")\n",
    "axes.set_title(\"Обучение крестиков базовым DQN в игре 4x4x4\")\n",
    "axes.grid()"
   ]
  },
  {
   "cell_type": "markdown",
   "id": "5ece6a2f",
   "metadata": {},
   "source": [
    "##### Обучение ноликов 4x4x4 базовым DQN"
   ]
  },
  {
   "cell_type": "code",
   "execution_count": 30,
   "id": "fdc07340",
   "metadata": {},
   "outputs": [],
   "source": [
    "# env_4x4x4 = TicTacToe(n_rows=4, n_cols=4, n_win=4)\n",
    "\n",
    "# dqn_O_4x4x4 = nn.Sequential(\n",
    "#             nn.Conv2d(in_channels=3, out_channels=128, kernel_size=4),\n",
    "#             nn.ReLU(),\n",
    "#             nn.Flatten(),\n",
    "#             nn.Linear(128, 64),\n",
    "#             nn.ReLU(),\n",
    "#             nn.Linear(64, 16)\n",
    "#         )\n",
    "\n",
    "# agent_dqn_O_4x4x4 = LerningDQN(model=dqn_X_4x4x4)\n",
    "\n",
    "# O_learning(\n",
    "#     env=env_4x4x4, \n",
    "#     agent=agent_dqn_O_4x4x4, \n",
    "#     state_to_matrix=state_to_matrix_4x4,\n",
    "#     transition=100_000, \n",
    "#     filepath=\"dqn_O_4x4x4\"\n",
    "# )"
   ]
  },
  {
   "cell_type": "code",
   "execution_count": 31,
   "id": "b2163a0f",
   "metadata": {},
   "outputs": [
    {
     "data": {
      "image/png": "[encoded data removed]",
      "text/plain": [
       "<Figure size 720x288 with 1 Axes>"
      ]
     },
     "metadata": {
      "needs_background": "light"
     },
     "output_type": "display_data"
    }
   ],
   "source": [
    "history_reward_O_4x4x4 = np.load(\"dqn_X_4x4x4.npy\")\n",
    "\n",
    "fig, axes = plt.subplots(nrows=1, ncols=1, figsize=(10, 4))\n",
    "axes.plot(np.cumsum(history_reward_O_4x4x4) / np.arange(1, len(history_reward_O_4x4x4) + 1), \"k\")\n",
    "axes.set_xlabel(\"Количество эпизодов\")\n",
    "axes.set_ylabel(\"Доля побед\")\n",
    "axes.set_title(\"Обучение ноликов базовым DQN в игре 4x4x4\")\n",
    "axes.grid()"
   ]
  },
  {
   "cell_type": "markdown",
   "id": "b99ae102",
   "metadata": {},
   "source": [
    "#### DoubleDQN"
   ]
  },
  {
   "cell_type": "code",
   "execution_count": 32,
   "id": "5922adba",
   "metadata": {},
   "outputs": [],
   "source": [
    "STEPS_PER_TARGET_UPDATE = STEPS_PER_UPDATE * 1000"
   ]
  },
  {
   "cell_type": "code",
   "execution_count": 33,
   "id": "fe1cda1f",
   "metadata": {},
   "outputs": [],
   "source": [
    "class LerningDoubleDQN:\n",
    "    def __init__(self, model):\n",
    "        self.steps = 0\n",
    "        self.model = model\n",
    "        self.criterion = nn.MSELoss()\n",
    "        self.optimizer = Adam(self.model.parameters(), LEARNING_RATE)\n",
    "        self.buffer = deque(maxlen=MAXLEN)\n",
    "        self.target_model = copy.deepcopy(self.model)\n",
    "\n",
    "    def consume_transition(self, transition):\n",
    "        self.buffer.append(transition)\n",
    "\n",
    "    def sample_batch(self):\n",
    "        batch = random.sample(self.buffer, BATCH_SIZE)\n",
    "        return batch\n",
    "\n",
    "    def train_step(self, batch):\n",
    "        state, action, next_state, reward, done = zip(*batch)\n",
    "        state = torch.tensor(np.array(state), dtype=torch.float)\n",
    "        action = torch.tensor(np.array(action), dtype=torch.float)\n",
    "        next_state = torch.tensor(np.array(next_state), dtype=torch.float)\n",
    "        reward = torch.tensor(np.array(reward), dtype=torch.float)\n",
    "        done = torch.tensor(np.array(done), dtype=torch.float)\n",
    "        \n",
    "        state = torch.squeeze(state)\n",
    "        next_state = torch.squeeze(next_state)\n",
    "        \n",
    "        with torch.no_grad():\n",
    "            q_value = self.model(state)\n",
    "            q_value_next = self.target_model(next_state)        \n",
    "        \n",
    "        q_value[torch.arange(q_value.size(0)), action.type(torch.LongTensor)] = reward + (1 - done) * GAMMA * torch.max(q_value_next, 1).values\n",
    "        \n",
    "        y_pred = self.model(state)\n",
    "        loss = self.criterion(y_pred, q_value)\n",
    "        self.optimizer.zero_grad()\n",
    "        loss.backward()\n",
    "        self.optimizer.step()\n",
    "        \n",
    "    def update_target_network(self):\n",
    "        self.target_model.load_state_dict(self.model.state_dict())\n",
    "            \n",
    "    def act(self, state, target=False):\n",
    "        with torch.no_grad():\n",
    "            q = self.model(torch.Tensor(state))\n",
    "            return torch.argmax(q).item()\n",
    "            \n",
    "    def update(self, transition):\n",
    "        self.consume_transition(transition)\n",
    "        \n",
    "        if len(self.buffer) < BATCH_SIZE:\n",
    "            return\n",
    "        \n",
    "        if self.steps % STEPS_PER_UPDATE == 0:\n",
    "            batch = self.sample_batch()\n",
    "            self.train_step(batch)\n",
    "            \n",
    "        if self.steps % STEPS_PER_TARGET_UPDATE == 0:\n",
    "            self.update_target_network()\n",
    "            \n",
    "        self.steps += 1\n",
    "\n",
    "    def save(self, filepath):\n",
    "        torch.save(self.model.state_dict(), filepath)"
   ]
  },
  {
   "cell_type": "markdown",
   "id": "efcadaf0",
   "metadata": {},
   "source": [
    "##### Обучение крестиков 3х3 DoubleDQN"
   ]
  },
  {
   "cell_type": "code",
   "execution_count": 34,
   "id": "9c925441",
   "metadata": {},
   "outputs": [],
   "source": [
    "# env_3x3x3 = TicTacToe(n_rows=3, n_cols=3, n_win=3)\n",
    "\n",
    "# dqn_X_3x3x3 = nn.Sequential(\n",
    "#             nn.Conv2d(in_channels=3, out_channels=128, kernel_size=3),\n",
    "#             nn.ReLU(),\n",
    "#             nn.Flatten(),\n",
    "#             nn.Linear(128, 64),\n",
    "#             nn.ReLU(),\n",
    "#             nn.Linear(64, 9)\n",
    "#         )\n",
    "\n",
    "# agent_doubledqn_X_3x3x3 = LerningDoubleDQN(model=dqn_X_3x3x3)\n",
    "\n",
    "# X_learning(\n",
    "#     env=env_3x3x3, \n",
    "#     agent=agent_doubledqn_X_3x3x3,\n",
    "#     state_to_matrix=state_to_matrix_3x3,\n",
    "#     transition=100_000, \n",
    "#     filepath=\"double_dqn_X_3x3x3\"\n",
    "# )"
   ]
  },
  {
   "cell_type": "code",
   "execution_count": 35,
   "id": "d8b1aa4d",
   "metadata": {},
   "outputs": [
    {
     "data": {
      "image/png": "[encoded data removed]",
      "text/plain": [
       "<Figure size 720x288 with 1 Axes>"
      ]
     },
     "metadata": {
      "needs_background": "light"
     },
     "output_type": "display_data"
    }
   ],
   "source": [
    "history_reward_X_3x3x3 = np.load(\"double_dqn_X_3x3x3.npy\")\n",
    "\n",
    "fig, axes = plt.subplots(nrows=1, ncols=1, figsize=(10, 4))\n",
    "axes.plot(np.cumsum(history_reward_X_3x3x3) / np.arange(1, len(history_reward_X_3x3x3) + 1), \"k\")\n",
    "axes.set_xlabel(\"Количество эпизодов\")\n",
    "axes.set_ylabel(\"Доля побед\")\n",
    "axes.set_title(\"Обучение крестиков DoubleDQN в игре 3x3\")\n",
    "axes.grid()"
   ]
  },
  {
   "cell_type": "markdown",
   "id": "a4aa3fa4",
   "metadata": {},
   "source": [
    "##### Обучение ноликов 3х3 DoubleDQN"
   ]
  },
  {
   "cell_type": "code",
   "execution_count": 36,
   "id": "298e4012",
   "metadata": {},
   "outputs": [],
   "source": [
    "# env_3x3x3 = TicTacToe(n_rows=3, n_cols=3, n_win=3)\n",
    "\n",
    "# dqn_O_3x3x3 = nn.Sequential(\n",
    "#             nn.Conv2d(in_channels=3, out_channels=128, kernel_size=3),\n",
    "#             nn.ReLU(),\n",
    "#             nn.Flatten(),\n",
    "#             nn.Linear(128, 64),\n",
    "#             nn.ReLU(),\n",
    "#             nn.Linear(64, 9)\n",
    "#         )\n",
    "\n",
    "# agent_doubledqn_O_3x3x3 = LerningDoubleDQN(model=dqn_O_3x3x3)\n",
    "\n",
    "# O_learning(\n",
    "#     env=env_3x3x3, \n",
    "#     agent=agent_doubledqn_O_3x3x3,\n",
    "#     state_to_matrix=state_to_matrix_3x3,\n",
    "#     transition=100_000, \n",
    "#     filepath=\"double_dqn_O_3x3x3\"\n",
    "# )"
   ]
  },
  {
   "cell_type": "code",
   "execution_count": 37,
   "id": "01db50f9",
   "metadata": {},
   "outputs": [
    {
     "data": {
      "image/png": "[encoded data removed]",
      "text/plain": [
       "<Figure size 720x288 with 1 Axes>"
      ]
     },
     "metadata": {
      "needs_background": "light"
     },
     "output_type": "display_data"
    }
   ],
   "source": [
    "history_reward_O_3x3x3 = np.load(\"double_dqn_O_3x3x3.npy\")\n",
    "\n",
    "fig, axes = plt.subplots(nrows=1, ncols=1, figsize=(10, 4))\n",
    "axes.plot(np.cumsum(history_reward_O_3x3x3) / np.arange(1, len(history_reward_O_3x3x3) + 1), \"k\")\n",
    "axes.set_xlabel(\"Количество эпизодов\")\n",
    "axes.set_ylabel(\"Доля побед\")\n",
    "axes.set_title(\"Обучение ноликов DoubleDQN в игре 3x3\")\n",
    "axes.grid()"
   ]
  },
  {
   "cell_type": "markdown",
   "id": "6dcd71b6",
   "metadata": {},
   "source": [
    "##### Обучение крестиков 4x4x4 DoubleDQN"
   ]
  },
  {
   "cell_type": "code",
   "execution_count": 38,
   "id": "3484d413",
   "metadata": {},
   "outputs": [],
   "source": [
    "# env_4x4x4 = TicTacToe(n_rows=4, n_cols=4, n_win=4)\n",
    "\n",
    "# dqn_X_4x4x4 = nn.Sequential(\n",
    "#             nn.Conv2d(in_channels=3, out_channels=128, kernel_size=4),\n",
    "#             nn.ReLU(),\n",
    "#             nn.Flatten(),\n",
    "#             nn.Linear(128, 64),\n",
    "#             nn.ReLU(),\n",
    "#             nn.Linear(64, 16)\n",
    "#         )\n",
    "\n",
    "# agent_doubledqn_X_4x4x4 = LerningDoubleDQN(model=dqn_X_4x4x4)\n",
    "\n",
    "# X_learning(\n",
    "#     env=env_4x4x4, \n",
    "#     agent=agent_doubledqn_X_4x4x4,\n",
    "#     state_to_matrix=state_to_matrix_4x4,\n",
    "#     transition=100_000, \n",
    "#     filepath=\"double_dqn_X_4x4x4\"\n",
    "# )"
   ]
  },
  {
   "cell_type": "code",
   "execution_count": 39,
   "id": "80d5e945",
   "metadata": {},
   "outputs": [
    {
     "data": {
      "image/png": "[encoded data removed]",
      "text/plain": [
       "<Figure size 720x288 with 1 Axes>"
      ]
     },
     "metadata": {
      "needs_background": "light"
     },
     "output_type": "display_data"
    }
   ],
   "source": [
    "history_reward_X_4x4x4 = np.load(\"double_dqn_X_4x4x4.npy\")\n",
    "\n",
    "fig, axes = plt.subplots(nrows=1, ncols=1, figsize=(10, 4))\n",
    "axes.plot(np.cumsum(history_reward_X_4x4x4) / np.arange(1, len(history_reward_X_4x4x4) + 1), \"k\")\n",
    "axes.set_xlabel(\"Количество эпизодов\")\n",
    "axes.set_ylabel(\"Доля побед\")\n",
    "axes.set_title(\"Обучение крестиков DoubleDQN в игре 4x4x4\")\n",
    "axes.grid()"
   ]
  },
  {
   "cell_type": "markdown",
   "id": "1cd266c7",
   "metadata": {},
   "source": [
    "##### Обучение ноликов 4x4x4 DoubleDQN"
   ]
  },
  {
   "cell_type": "code",
   "execution_count": 40,
   "id": "1d719b34",
   "metadata": {},
   "outputs": [],
   "source": [
    "# env_4x4x4 = TicTacToe(n_rows=4, n_cols=4, n_win=4)\n",
    "\n",
    "# dqn_O_4x4x4 = nn.Sequential(\n",
    "#             nn.Conv2d(in_channels=3, out_channels=128, kernel_size=4),\n",
    "#             nn.ReLU(),\n",
    "#             nn.Flatten(),\n",
    "#             nn.Linear(128, 64),\n",
    "#             nn.ReLU(),\n",
    "#             nn.Linear(64, 16)\n",
    "#         )\n",
    "\n",
    "# agent_doubledqn_O_4x4x4 = LerningDoubleDQN(model=dqn_O_4x4x4)\n",
    "\n",
    "# O_learning(\n",
    "#     env=env_4x4x4, \n",
    "#     agent=agent_doubledqn_O_4x4x4,\n",
    "#     state_to_matrix=state_to_matrix_4x4,\n",
    "#     transition=100_000, \n",
    "#     filepath=\"double_dqn_O_4x4x4\"\n",
    "# )"
   ]
  },
  {
   "cell_type": "code",
   "execution_count": 41,
   "id": "e67eae7f",
   "metadata": {},
   "outputs": [
    {
     "data": {
      "image/png": "[encoded data removed]",
      "text/plain": [
       "<Figure size 720x288 with 1 Axes>"
      ]
     },
     "metadata": {
      "needs_background": "light"
     },
     "output_type": "display_data"
    }
   ],
   "source": [
    "history_reward_O_4x4x4 = np.load(\"double_dqn_O_4x4x4.npy\")\n",
    "\n",
    "fig, axes = plt.subplots(nrows=1, ncols=1, figsize=(10, 4))\n",
    "axes.plot(np.cumsum(history_reward_O_4x4x4) / np.arange(1, len(history_reward_O_4x4x4) + 1), \"k\")\n",
    "axes.set_xlabel(\"Количество эпизодов\")\n",
    "axes.set_ylabel(\"Доля побед\")\n",
    "axes.set_title(\"Обучение ноликов DoubleDQN в игре 4x4\")\n",
    "axes.grid()"
   ]
  },
  {
   "cell_type": "markdown",
   "id": "758ece7c",
   "metadata": {},
   "source": [
    "## Часть третья: расширим и углубим поиск"
   ]
  },
  {
   "cell_type": "markdown",
   "id": "3182b39d",
   "metadata": {},
   "source": [
    "Крестики-нолики -- это, конечно, далеко не го, и обычный альфа-бета поиск с отсечением здесь наверняка может работать идеально вплоть до довольно больших досок. Однако мы всё-таки для этого учебного задания будем реализовывать более практически релевантный метод MCTS -- заодно фактически получится и упражнение на многоруких бандитов.\n",
    "    \n",
    "5. Реализуйте rollouts со случайной стратегией и (опционально) rollouts с неслучайной, но простой стратегией (например, основанной на дополнении нескольких паттернов или на Q-функции, которая у вас получилась в первом пункте).\n",
    "6. Реализуйте MCTS-поиск с этими rollouts для крестиков-ноликов на досках разного размера, сравните полученные стратегии между собой и со стратегиями, обученными в первых двух частях."
   ]
  },
  {
   "cell_type": "code",
   "execution_count": null,
   "id": "8bbb9a62",
   "metadata": {},
   "outputs": [],
   "source": []
  },
  {
   "cell_type": "code",
   "execution_count": null,
   "id": "e42d1310",
   "metadata": {},
   "outputs": [],
   "source": []
  },
  {
   "cell_type": "code",
   "execution_count": null,
   "id": "90eb918f",
   "metadata": {},
   "outputs": [],
   "source": []
  },
  {
   "cell_type": "code",
   "execution_count": null,
   "id": "35ce6666",
   "metadata": {},
   "outputs": [],
   "source": []
  }
 ],
 "metadata": {
  "kernelspec": {
   "display_name": "Python 3",
   "language": "python",
   "name": "python3"
  },
  "language_info": {
   "codemirror_mode": {
    "name": "ipython",
    "version": 3
   },
   "file_extension": ".py",
   "mimetype": "text/x-python",
   "name": "python",
   "nbconvert_exporter": "python",
   "pygments_lexer": "ipython3",
   "version": "3.8.8"
  }
 },
 "nbformat": 4,
 "nbformat_minor": 5
}
